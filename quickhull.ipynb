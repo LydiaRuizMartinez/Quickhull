{
 "cells": [
  {
   "cell_type": "code",
   "execution_count": 1,
   "metadata": {},
   "outputs": [
    {
     "data": {
      "application/vnd.jupyter.widget-view+json": {
       "model_id": "fbdf2a939e23429eb3094135a1048f3f",
       "version_major": 2,
       "version_minor": 0
      },
      "text/plain": [
       "Interactive function <function pedirPuntos at 0x6ffec43bfb90> with 1 widget\n",
       "  p: TransformIntSlider(value=3, d…"
      ]
     },
     "metadata": {},
     "output_type": "display_data"
    }
   ],
   "source": [
    "\"\"\"\n",
    "quickhull.ipynb\n",
    "\n",
    "Geometría Computacional - IMAT\n",
    "ICAI, Universidad Pontificia Comillas\n",
    "\n",
    "Integrantes del grupo:\n",
    "    - María González Gómez\n",
    "    - Lydia Ruiz Martínez\n",
    "    - David Tarrasa Puebla\n",
    "\"\"\"\n",
    "\n",
    "def maxX(P):\n",
    "    \"\"\"\n",
    "    Función que calcula el punto con el mayor valor en el eje X de un conjunto de puntos P.\n",
    "    \"\"\"\n",
    "    return max(P)\n",
    "\n",
    "def minX(P):\n",
    "    \"\"\"\n",
    "    Función que calcula el punto con el menor valor en el eje X de un conjunto de puntos P.\n",
    "    \"\"\"\n",
    "    return min(P)\n",
    "\n",
    "def orientacionPuntoRecta(p1, p2, p):\n",
    "    \"\"\"\n",
    "    Función que calcula la orientación de un punto p con respecto a una línea definida por\n",
    "    los puntos p1 y p2.\n",
    "    \"\"\"\n",
    "    return (p2[0] - p1[0]) * (p[1] - p1[1]) - (p2[1] - p1[1]) * (p[0] - p1[0])\n",
    "\n",
    "def distanciaLinea(p, p1, p2):\n",
    "    \"\"\"\n",
    "    Función que calcula la distancia perpendicular de un punto p a la línea definida por los\n",
    "    puntos p1 y p2.\n",
    "    \"\"\"\n",
    "    return abs((p2[1] - p1[1]) * p[0] - (p2[0] - p1[0]) * p[1] + p2[0] * p1[1] - p2[1] * p1[0])\n",
    "\n",
    "def encontrarQuickhull(P, p1, p2):\n",
    "    \"\"\"\n",
    "    Función recursiva que encuentra los puntos que forman parte del cierre convexo en un lado\n",
    "    de la línea p1-p2.\n",
    "    \"\"\"\n",
    "    if not P:\n",
    "        return []\n",
    "    mas_lejos = max(P, key=lambda x: distanciaLinea(x, p1, p2))\n",
    "    P.remove(mas_lejos)\n",
    "    izq = [p for p in P if orientacionPuntoRecta(p1, mas_lejos, p) > 0]\n",
    "    der = [p for p in P if orientacionPuntoRecta(mas_lejos, p2, p) > 0]\n",
    "    return encontrarQuickhull(izq, p1, mas_lejos) + [mas_lejos] + encontrarQuickhull(der, mas_lejos, p2)\n",
    "\n",
    "def Quickhull(P):\n",
    "    \"\"\"\n",
    "    Función principal que implementa el algoritmo Quickhull para calcular el cierre convexo.\n",
    "    Divide los puntos en dos mitades (superior e inferior) con respecto a los puntos extremos,\n",
    "    y luego encuentra los puntos del cierre convexo en cada mitad.\n",
    "    \"\"\"\n",
    "    min_abs = minX(P)\n",
    "    max_abs = maxX(P)\n",
    "    superior = [p for p in P if orientacionPuntoRecta(min_abs, max_abs, p) > 0]\n",
    "    inferior = [p for p in P if orientacionPuntoRecta(max_abs, min_abs, p) > 0]\n",
    "    return [min_abs] + encontrarQuickhull(superior, min_abs, max_abs) + [max_abs] + encontrarQuickhull(inferior, max_abs, min_abs)\n",
    "\n",
    "@interact\n",
    "def pedirPuntos(p=slider(3, 100, 1, 1, label='Número de Puntos')):\n",
    "    \"\"\"\n",
    "    Función interactiva para seleccionar el número de puntos a generar.\n",
    "    \"\"\"\n",
    "    @interact\n",
    "    def generaPuntos(distribucion=selector([(1, 'Uniforme'), (2, 'Normal')], label='Distribución')):\n",
    "        \"\"\"\n",
    "        Función interactiva para seleccionar la distribución de los puntos (Uniforme o Normal).\n",
    "        \"\"\"\n",
    "        if distribucion == 1:\n",
    "            P = [[random(), random()] for _ in range(p)]  # Usa random.random()\n",
    "        else:\n",
    "            P = [[2 * gauss(0, 1), gauss(0, 1)] for _ in range(p)]\n",
    "        CH = Quickhull(P)\n",
    "        @interact\n",
    "        def visualizarPaso(paso=slider(0, len(CH) - 1, 1, 0, label='Paso')):\n",
    "            \"\"\"\n",
    "            Función interactiva para visualizar el proceso paso a paso.\n",
    "            Muestra los puntos parciales que forman la envolvente convexa.\n",
    "            \"\"\"\n",
    "            parciales = CH[:paso + 1]\n",
    "            show(\n",
    "                list_plot(P, color='blue', size=20, legend_label='Puntos') +\n",
    "                polygon(parciales + [parciales[0]], color='hotpink', alpha=0.5, legend_label='Envolvente') +\n",
    "                point(parciales, color='green', size=30, legend_label='Puntos Envolvente')\n",
    "            )"
   ]
  },
  {
   "cell_type": "code",
   "execution_count": null,
   "metadata": {},
   "outputs": [],
   "source": []
  }
 ],
 "metadata": {
  "kernelspec": {
   "display_name": "SageMath 9.3",
   "language": "sage",
   "name": "sagemath"
  },
  "language_info": {
   "codemirror_mode": {
    "name": "ipython",
    "version": 3
   },
   "file_extension": ".py",
   "mimetype": "text/x-python",
   "name": "python",
   "nbconvert_exporter": "python",
   "pygments_lexer": "ipython3",
   "version": "3.7.10"
  }
 },
 "nbformat": 4,
 "nbformat_minor": 2
}
